{
 "cells": [
  {
   "cell_type": "markdown",
   "id": "61c3401e-f6db-4774-8986-810d0084cf52",
   "metadata": {},
   "source": [
    "# 인공지능개론 - 202334716 이예나 "
   ]
  },
  {
   "cell_type": "markdown",
   "id": "123448dd-4e98-4f29-b0e6-bbb02cb08d67",
   "metadata": {},
   "source": [
    "붓꽃데이터 분류(DT, RF, SVM, LR, KNN)"
   ]
  },
  {
   "cell_type": "markdown",
   "id": "94c78cf6-3574-48a7-8ed2-ddbfd38a7433",
   "metadata": {},
   "source": [
    "### 1. 로컬에서 파일 불러오기"
   ]
  },
  {
   "cell_type": "code",
   "execution_count": 21,
   "id": "1b07a929-8a8a-4159-b667-e541c6d11999",
   "metadata": {},
   "outputs": [
    {
     "name": "stdout",
     "output_type": "stream",
     "text": [
      "<bound method NDFrame.head of      SepalLength  SepalWidth  PetalLength  PetalWidth            Name\n",
      "0            5.1         3.5          1.4         0.2     Iris-setosa\n",
      "1            4.9         3.0          1.4         0.2     Iris-setosa\n",
      "2            4.7         3.2          1.3         0.2     Iris-setosa\n",
      "3            4.6         3.1          1.5         0.2     Iris-setosa\n",
      "4            5.0         3.6          1.4         0.2     Iris-setosa\n",
      "..           ...         ...          ...         ...             ...\n",
      "145          6.7         3.0          5.2         2.3  Iris-virginica\n",
      "146          6.3         2.5          5.0         1.9  Iris-virginica\n",
      "147          6.5         3.0          5.2         2.0  Iris-virginica\n",
      "148          6.2         3.4          5.4         2.3  Iris-virginica\n",
      "149          5.9         3.0          5.1         1.8  Iris-virginica\n",
      "\n",
      "[150 rows x 5 columns]>\n",
      "Index(['SepalLength', 'SepalWidth', 'PetalLength', 'PetalWidth', 'Name'], dtype='object')\n"
     ]
    }
   ],
   "source": [
    "import pandas as pd\n",
    "\n",
    "# 붓꽃 데이터 CSV 파일 읽기\n",
    "file_path = \"/Users/yenalee/Desktop/workplace/AI_2025-1/week2/iris.csv\"  # 본인이 iris.csv를 저장한 경로를 입력합니다.\n",
    "df = pd.read_csv(file_path)\n",
    "\n",
    "# 데이터프레임 확인\n",
    "print(df.head)\n",
    "print(df.columns)"
   ]
  },
  {
   "cell_type": "markdown",
   "id": "1e641a0e-11b9-4122-886d-f770e8f4a1fa",
   "metadata": {},
   "source": [
    "### 2. 웹 주소(깃허브)에서 파일 불러오기"
   ]
  },
  {
   "cell_type": "code",
   "execution_count": 23,
   "id": "9543ef6c-5842-4c16-8622-a8b13ed56ed2",
   "metadata": {},
   "outputs": [
    {
     "name": "stdout",
     "output_type": "stream",
     "text": [
      "   SepalLength  SepalWidth  PetalLength  PetalWidth         Name\n",
      "0          5.1         3.5          1.4         0.2  Iris-setosa\n",
      "1          4.9         3.0          1.4         0.2  Iris-setosa\n",
      "2          4.7         3.2          1.3         0.2  Iris-setosa\n",
      "3          4.6         3.1          1.5         0.2  Iris-setosa\n",
      "4          5.0         3.6          1.4         0.2  Iris-setosa\n"
     ]
    }
   ],
   "source": [
    "import pandas as pd\n",
    "\n",
    "# GitHub raw CSV 파일 URL\n",
    "file_url = \"https://raw.githubusercontent.com/lyn0719/AI_2025-1/refs/heads/main/week2/iris.csv\"\n",
    "\n",
    "# CSV 파일 읽기\n",
    "df = pd.read_csv(file_url)\n",
    "\n",
    "# 데이터프레임 확인\n",
    "print(df.head())"
   ]
  },
  {
   "cell_type": "markdown",
   "id": "c13d30df-f40a-42cd-985d-0ed1fdc8cd4b",
   "metadata": {},
   "source": [
    "## 라이브러리 import"
   ]
  },
  {
   "cell_type": "code",
   "execution_count": 26,
   "id": "5cfe1ff5-cc7b-4e92-b721-56e49f540b56",
   "metadata": {},
   "outputs": [],
   "source": [
    "import pandas as pd\n",
    "import numpy as np\n",
    "from sklearn.model_selection import train_test_split\n",
    "from sklearn.preprocessing import LabelEncoder, StandardScaler\n",
    "from sklearn.svm import SVC\n",
    "from sklearn.tree import DecisionTreeClassifier\n",
    "from sklearn.ensemble import RandomForestClassifier\n",
    "from sklearn.linear_model import LogisticRegression\n",
    "from sklearn.metrics import accuracy_score, classification_report"
   ]
  },
  {
   "cell_type": "markdown",
   "id": "92a0d091-3fef-4ae0-9797-4b45f4caad81",
   "metadata": {},
   "source": [
    "## 데이터 분할, 데이터 분리(학습 데이터 + 테스트 데이터)"
   ]
  },
  {
   "cell_type": "code",
   "execution_count": 29,
   "id": "6d664885-784d-4494-89cf-e2e4e1e26fb0",
   "metadata": {},
   "outputs": [],
   "source": [
    "# 데이터 분할\n",
    "x = df.drop(columns=['Name'])  # 'Name' 열을 제외한 피처들\n",
    "y = df['Name']  # 'Name' 열을 타겟으로\n",
    "\n",
    "# 학습 데이터와 테스트 데이터로 분리 (80% 학습, 20% 테스트)\n",
    "x_train, x_test, y_train, y_test = train_test_split(x, y, test_size=0.2, random_state=42)"
   ]
  },
  {
   "cell_type": "markdown",
   "id": "f5745575-e2e5-4f22-b72d-9e56aae1ad1b",
   "metadata": {},
   "source": [
    "## 데이터 정규화"
   ]
  },
  {
   "cell_type": "code",
   "execution_count": 32,
   "id": "319910f6-1f6a-460a-b6b6-d90aaee61bf0",
   "metadata": {},
   "outputs": [],
   "source": [
    "# 데이터 정규화\n",
    "scaler = StandardScaler()\n",
    "x_train = scaler.fit_transform(x_train)  # 학습 데이터 표준화\n",
    "x_test = scaler.transform(x_test)  # 테스트 데이터 표준화"
   ]
  },
  {
   "cell_type": "markdown",
   "id": "647645e8-0641-44df-ac46-240dcd571e13",
   "metadata": {},
   "source": [
    "## 모델 학습 및 정확도(Accuracy) 확인"
   ]
  },
  {
   "cell_type": "markdown",
   "id": "12330202-1dfe-4979-ba67-10035a91a01f",
   "metadata": {},
   "source": [
    "### Decision Tree 모델 학습 및 평가"
   ]
  },
  {
   "cell_type": "code",
   "execution_count": 36,
   "id": "a89d91d4-4365-4fb6-857c-a3ddbe5fced9",
   "metadata": {},
   "outputs": [
    {
     "name": "stdout",
     "output_type": "stream",
     "text": [
      "\n",
      "[결정 트리(DT] 분류 보고서 :\n",
      "                 precision    recall  f1-score   support\n",
      "\n",
      "    Iris-setosa       1.00      1.00      1.00        10\n",
      "Iris-versicolor       1.00      1.00      1.00         9\n",
      " Iris-virginica       1.00      1.00      1.00        11\n",
      "\n",
      "       accuracy                           1.00        30\n",
      "      macro avg       1.00      1.00      1.00        30\n",
      "   weighted avg       1.00      1.00      1.00        30\n",
      "\n",
      "결정 트리(DT) 정확도 : 1.0000\n"
     ]
    }
   ],
   "source": [
    "dt_model = DecisionTreeClassifier()   # 결정 트리(Decision Tree) 모델 생성\n",
    "dt_model.fit(x_train, y_train)        # 모델 학습 (훈련 데이터로 학습 진행)\n",
    "dt_pred = dt_model.predict(x_test)    # 테스트 데이터를 사용하여 예측 수행\n",
    "\n",
    "print(\"\\n[결정 트리(DT] 분류 보고서 :\")\n",
    "print(classification_report(y_test, dt_pred))\n",
    "print(f\"결정 트리(DT) 정확도 : {accuracy_score(y_test, dt_pred):.4f}\")"
   ]
  },
  {
   "cell_type": "markdown",
   "id": "b6576b2c-34ab-40b4-93bb-0a7efde929d1",
   "metadata": {},
   "source": [
    "### Random Forest 모델 학습 및 평가"
   ]
  },
  {
   "cell_type": "code",
   "execution_count": 39,
   "id": "55687066-3bf8-4cb9-b882-99f6de8a448f",
   "metadata": {},
   "outputs": [
    {
     "name": "stdout",
     "output_type": "stream",
     "text": [
      "\n",
      "[랜덤 포레스트(RF)] 분류 보고서 :\n",
      "                 precision    recall  f1-score   support\n",
      "\n",
      "    Iris-setosa       1.00      1.00      1.00        10\n",
      "Iris-versicolor       1.00      1.00      1.00         9\n",
      " Iris-virginica       1.00      1.00      1.00        11\n",
      "\n",
      "       accuracy                           1.00        30\n",
      "      macro avg       1.00      1.00      1.00        30\n",
      "   weighted avg       1.00      1.00      1.00        30\n",
      "\n",
      "랜덤 포레스트(RF) 정확도 : 1.0000\n"
     ]
    }
   ],
   "source": [
    "rf_model = RandomForestClassifier()\n",
    "rf_model.fit(x_train, y_train)\n",
    "rf_pred = rf_model.predict(x_test)\n",
    "print(\"\\n[랜덤 포레스트(RF)] 분류 보고서 :\")\n",
    "print(classification_report(y_test, rf_pred))\n",
    "print(f\"랜덤 포레스트(RF) 정확도 : {accuracy_score(y_test, rf_pred):.4f}\")"
   ]
  },
  {
   "cell_type": "markdown",
   "id": "4c9d2df6-5930-4faa-8867-532a10d1d7fc",
   "metadata": {},
   "source": [
    "### SVM 모델 학습 및 평가"
   ]
  },
  {
   "cell_type": "code",
   "execution_count": 42,
   "id": "cc86dc0a-a05b-4062-889e-53a901d78022",
   "metadata": {},
   "outputs": [
    {
     "name": "stdout",
     "output_type": "stream",
     "text": [
      "\n",
      "[SVM] 분류 보고서 :\n",
      "                 precision    recall  f1-score   support\n",
      "\n",
      "    Iris-setosa       1.00      1.00      1.00        10\n",
      "Iris-versicolor       1.00      1.00      1.00         9\n",
      " Iris-virginica       1.00      1.00      1.00        11\n",
      "\n",
      "       accuracy                           1.00        30\n",
      "      macro avg       1.00      1.00      1.00        30\n",
      "   weighted avg       1.00      1.00      1.00        30\n",
      "\n",
      "SVM 정확도 : 1.0000\n"
     ]
    }
   ],
   "source": [
    "svm_model = SVC()\n",
    "svm_model.fit(x_train, y_train)\n",
    "svm_pred = svm_model.predict(x_test)\n",
    "print(\"\\n[SVM] 분류 보고서 :\")\n",
    "print(classification_report(y_test, svm_pred))\n",
    "print(f\"SVM 정확도 : {accuracy_score(y_test, svm_pred):.4f}\")"
   ]
  },
  {
   "cell_type": "markdown",
   "id": "007450a9-2626-4ed0-9f99-88196c57cbe1",
   "metadata": {},
   "source": [
    "### Logistic Regression 모델 학습 및 평가"
   ]
  },
  {
   "cell_type": "code",
   "execution_count": 45,
   "id": "822a5f8b-327d-40b4-98f7-bcfcdee8406c",
   "metadata": {},
   "outputs": [
    {
     "name": "stdout",
     "output_type": "stream",
     "text": [
      "\n",
      "[로지스틱 회귀(LR)] 분류 보고서 :\n",
      "                 precision    recall  f1-score   support\n",
      "\n",
      "    Iris-setosa       1.00      1.00      1.00        10\n",
      "Iris-versicolor       1.00      1.00      1.00         9\n",
      " Iris-virginica       1.00      1.00      1.00        11\n",
      "\n",
      "       accuracy                           1.00        30\n",
      "      macro avg       1.00      1.00      1.00        30\n",
      "   weighted avg       1.00      1.00      1.00        30\n",
      "\n",
      "로지스틱 회귀(LR) 정확도 : 1.0000\n"
     ]
    }
   ],
   "source": [
    "lr_model = LogisticRegression(max_iter=200)\n",
    "lr_model.fit(x_train, y_train)\n",
    "lr_pred = lr_model.predict(x_test)\n",
    "print(\"\\n[로지스틱 회귀(LR)] 분류 보고서 :\")\n",
    "print(classification_report(y_test, lr_pred))\n",
    "print(f\"로지스틱 회귀(LR) 정확도 : {accuracy_score(y_test, lr_pred):.4f}\")"
   ]
  },
  {
   "cell_type": "markdown",
   "id": "720a86aa-2410-48cb-9e0b-c24ea8341450",
   "metadata": {},
   "source": [
    "### K-NN 모델 학습 및 평가"
   ]
  },
  {
   "cell_type": "code",
   "execution_count": 48,
   "id": "97d41847-2c52-42a7-a027-5309c025c0c0",
   "metadata": {},
   "outputs": [],
   "source": [
    "import pandas as pd\n",
    "from sklearn.model_selection import train_test_split\n",
    "from sklearn.neighbors import KNeighborsClassifier\n",
    "from sklearn.metrics import accuracy_score\n",
    "import matplotlib.pyplot as plt"
   ]
  },
  {
   "cell_type": "code",
   "execution_count": 50,
   "id": "49c1356f-54ec-471f-9ac1-1d9782fdd7d5",
   "metadata": {},
   "outputs": [],
   "source": [
    "# 데이터 스케일링 (KNN은 거리 기반 알고리즘이므로 필요함)\n",
    "scaler = StandardScaler()\n",
    "x_train = scaler.fit_transform(x_train)\n",
    "x_test = scaler.transform(x_test)"
   ]
  },
  {
   "cell_type": "code",
   "execution_count": 52,
   "id": "c4230f1a-d32d-4d76-b4c2-7ee6c34e41af",
   "metadata": {},
   "outputs": [
    {
     "name": "stdout",
     "output_type": "stream",
     "text": [
      "['Iris-versicolor' 'Iris-setosa' 'Iris-virginica' 'Iris-versicolor'\n",
      " 'Iris-versicolor' 'Iris-setosa' 'Iris-versicolor' 'Iris-virginica'\n",
      " 'Iris-versicolor' 'Iris-versicolor']\n"
     ]
    }
   ],
   "source": [
    "# K-NN 모델 초기화\n",
    "k = 3  # k 값은 사용자에 맞게 설정할 수 있습니다.\n",
    "knn = KNeighborsClassifier(n_neighbors=k)\n",
    "\n",
    "# 모델 훈련\n",
    "knn.fit(x_train, y_train)\n",
    "\n",
    "# 예측\n",
    "y_pred = knn.predict(x_test)\n",
    "\n",
    "print(y_pred[0:10]) # 예측 데이터 값 확인"
   ]
  },
  {
   "cell_type": "code",
   "execution_count": 54,
   "id": "315036b9-e489-475f-80f5-088fcd947655",
   "metadata": {},
   "outputs": [
    {
     "name": "stdout",
     "output_type": "stream",
     "text": [
      "Accuracy: 1.0000\n"
     ]
    }
   ],
   "source": [
    "# 정확도 출력\n",
    "accuracy = accuracy_score(y_test, y_pred)\n",
    "print(f\"Accuracy: {accuracy :.4f}\")"
   ]
  },
  {
   "cell_type": "markdown",
   "id": "f7d337e2-fbd8-436f-a367-d576ec8e55c8",
   "metadata": {},
   "source": [
    "## 예측한 값과 정답 비교\n",
    "- 정답 : test data\n",
    "- 예측한 값 : pred data\n",
    "\n",
    "> 정답과 예측한 값이 일치하는 것을 확인할 수 있음 (정확도가 1이므로)"
   ]
  },
  {
   "cell_type": "code",
   "execution_count": 60,
   "id": "2f762e1e-e0e4-4e90-b390-9b00f247ae72",
   "metadata": {},
   "outputs": [
    {
     "name": "stdout",
     "output_type": "stream",
     "text": [
      "73     Iris-versicolor\n",
      "18         Iris-setosa\n",
      "118     Iris-virginica\n",
      "78     Iris-versicolor\n",
      "76     Iris-versicolor\n",
      "31         Iris-setosa\n",
      "64     Iris-versicolor\n",
      "141     Iris-virginica\n",
      "68     Iris-versicolor\n",
      "82     Iris-versicolor\n",
      "Name: Name, dtype: object\n"
     ]
    }
   ],
   "source": [
    "print(y_test[0:10]) # 테스트 데이터의 0~9 값 확인"
   ]
  },
  {
   "cell_type": "code",
   "execution_count": 62,
   "id": "e711dadd-1b74-43cb-83e9-f307e363624b",
   "metadata": {},
   "outputs": [
    {
     "name": "stdout",
     "output_type": "stream",
     "text": [
      "['Iris-versicolor' 'Iris-setosa' 'Iris-virginica' 'Iris-versicolor'\n",
      " 'Iris-versicolor' 'Iris-setosa' 'Iris-versicolor' 'Iris-virginica'\n",
      " 'Iris-versicolor' 'Iris-versicolor']\n"
     ]
    }
   ],
   "source": [
    "print(lr_pred[0:10]) # 예측 데이터의 0~9 값 확인"
   ]
  }
 ],
 "metadata": {
  "kernelspec": {
   "display_name": "Python [conda env:base] *",
   "language": "python",
   "name": "conda-base-py"
  },
  "language_info": {
   "codemirror_mode": {
    "name": "ipython",
    "version": 3
   },
   "file_extension": ".py",
   "mimetype": "text/x-python",
   "name": "python",
   "nbconvert_exporter": "python",
   "pygments_lexer": "ipython3",
   "version": "3.12.7"
  }
 },
 "nbformat": 4,
 "nbformat_minor": 5
}
