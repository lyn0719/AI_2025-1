{
 "cells": [
  {
   "cell_type": "markdown",
   "id": "e9e983fc-352e-45b2-8362-1c42bb3e1d8a",
   "metadata": {},
   "source": [
    "# diabetes 데이터셋 불러오고 5가지 모델 적용해보기"
   ]
  },
  {
   "cell_type": "markdown",
   "id": "765881ef-b19e-45bc-befb-70d5c6523d27",
   "metadata": {},
   "source": [
    "### 파일 불러오기"
   ]
  },
  {
   "cell_type": "code",
   "execution_count": 59,
   "id": "587e0e24-c621-4785-807c-20cb9f281787",
   "metadata": {},
   "outputs": [
    {
     "name": "stdout",
     "output_type": "stream",
     "text": [
      "<bound method NDFrame.head of      Pregnancies  Glucose  BloodPressure  SkinThickness  Insulin   BMI  \\\n",
      "0              6      148             72             35        0  33.6   \n",
      "1              1       85             66             29        0  26.6   \n",
      "2              8      183             64              0        0  23.3   \n",
      "3              1       89             66             23       94  28.1   \n",
      "4              0      137             40             35      168  43.1   \n",
      "..           ...      ...            ...            ...      ...   ...   \n",
      "763           10      101             76             48      180  32.9   \n",
      "764            2      122             70             27        0  36.8   \n",
      "765            5      121             72             23      112  26.2   \n",
      "766            1      126             60              0        0  30.1   \n",
      "767            1       93             70             31        0  30.4   \n",
      "\n",
      "     DiabetesPedigreeFunction  Age  Outcome  \n",
      "0                       0.627   50        1  \n",
      "1                       0.351   31        0  \n",
      "2                       0.672   32        1  \n",
      "3                       0.167   21        0  \n",
      "4                       2.288   33        1  \n",
      "..                        ...  ...      ...  \n",
      "763                     0.171   63        0  \n",
      "764                     0.340   27        0  \n",
      "765                     0.245   30        0  \n",
      "766                     0.349   47        1  \n",
      "767                     0.315   23        0  \n",
      "\n",
      "[768 rows x 9 columns]>\n",
      "Index(['Pregnancies', 'Glucose', 'BloodPressure', 'SkinThickness', 'Insulin',\n",
      "       'BMI', 'DiabetesPedigreeFunction', 'Age', 'Outcome'],\n",
      "      dtype='object')\n"
     ]
    }
   ],
   "source": [
    "# csv 파일을 다운로드하여 로컬에서 불러오는 방법\n",
    "\n",
    "import pandas as pd\n",
    "\n",
    "# 붓꽃 데이터 CSV 파일 읽기\n",
    "file_path = \"C:\\\\workplace\\\\AI\\\\AI_2025-1\\\\week2\\\\diabetes.csv\"  # 본인이 iris.csv를 저장한 경로를 입력합니다.\n",
    "df = pd.read_csv(file_path)\n",
    "\n",
    "# 데이터프레임 확인\n",
    "print(df.head)\n",
    "print(df.columns)"
   ]
  },
  {
   "cell_type": "code",
   "execution_count": 57,
   "id": "f1bb3a8c-987f-4c8a-ab2b-dd6ac09311ba",
   "metadata": {},
   "outputs": [
    {
     "name": "stdout",
     "output_type": "stream",
     "text": [
      "   Pregnancies  Glucose  BloodPressure  SkinThickness  Insulin   BMI  \\\n",
      "0            6      148             72             35        0  33.6   \n",
      "1            1       85             66             29        0  26.6   \n",
      "2            8      183             64              0        0  23.3   \n",
      "3            1       89             66             23       94  28.1   \n",
      "4            0      137             40             35      168  43.1   \n",
      "\n",
      "   DiabetesPedigreeFunction  Age  Outcome  \n",
      "0                     0.627   50        1  \n",
      "1                     0.351   31        0  \n",
      "2                     0.672   32        1  \n",
      "3                     0.167   21        0  \n",
      "4                     2.288   33        1  \n"
     ]
    }
   ],
   "source": [
    "# csv 파일을 깃허브 주소에서 불러오는 방법\n",
    "\n",
    "import pandas as pd\n",
    "\n",
    "# GitHub raw CSV URL\n",
    "csv_url = \"https://github.com/MyungKyuYi/AI-class/raw/refs/heads/main/diabetes.csv\"\n",
    "\n",
    "# CSV 데이터 읽기\n",
    "df = pd.read_csv(csv_url)\n",
    "\n",
    "# 데이터 확인\n",
    "print(df.head())"
   ]
  },
  {
   "cell_type": "markdown",
   "id": "80ef3d4c-9e32-4ed5-bf23-63766ef396c6",
   "metadata": {},
   "source": [
    "### 라이브러리 import"
   ]
  },
  {
   "cell_type": "code",
   "execution_count": 13,
   "id": "23847e5e-5d6d-4446-bcb4-2120cdafb2ed",
   "metadata": {},
   "outputs": [],
   "source": [
    "import pandas as pd\n",
    "from sklearn.model_selection import train_test_split\n",
    "from sklearn.neighbors import KNeighborsClassifier\n",
    "from sklearn.metrics import accuracy_score\n",
    "import matplotlib.pyplot as plt\n",
    "import numpy as np\n",
    "from sklearn.preprocessing import LabelEncoder, StandardScaler\n",
    "from sklearn.svm import SVC\n",
    "from sklearn.tree import DecisionTreeClassifier\n",
    "from sklearn.ensemble import RandomForestClassifier\n",
    "from sklearn.linear_model import LogisticRegression\n",
    "from sklearn.metrics import accuracy_score, classification_report"
   ]
  },
  {
   "cell_type": "code",
   "execution_count": 15,
   "id": "f76e5ccf-a213-4b49-aeb1-2712089951c1",
   "metadata": {},
   "outputs": [],
   "source": [
    "# 데이터 분할\n",
    "x = df.drop(columns=['Outcome'])  # 'Name' 열을 제외한 피처들\n",
    "y = df['Outcome']  # 'Name' 열을 타겟으로\n",
    "\n",
    "# 학습 데이터와 테스트 데이터로 분리 (80% 학습, 20% 테스트)\n",
    "x_train, x_test, y_train, y_test = train_test_split(x, y, test_size=0.2, random_state=42)"
   ]
  },
  {
   "cell_type": "code",
   "execution_count": 17,
   "id": "15f03fa9-b3e2-4fb8-a174-f074de1b884c",
   "metadata": {},
   "outputs": [],
   "source": [
    "# 데이터 정규화\n",
    "scaler = StandardScaler()\n",
    "x_train = scaler.fit_transform(x_train)  # 학습 데이터 표준화\n",
    "x_test = scaler.transform(x_test)  # 테스트 데이터 표준화"
   ]
  },
  {
   "cell_type": "markdown",
   "id": "4b9dccfa-e29d-4b0a-9361-33e2ae1d2473",
   "metadata": {},
   "source": [
    "### 결정트리(DT) 모델"
   ]
  },
  {
   "cell_type": "code",
   "execution_count": 19,
   "id": "8af2f94e-81a2-471c-b6d3-5673664d7394",
   "metadata": {},
   "outputs": [
    {
     "name": "stdout",
     "output_type": "stream",
     "text": [
      "\n",
      "[결정 트리(DT] 분류 보고서 :\n",
      "              precision    recall  f1-score   support\n",
      "\n",
      "           0       0.83      0.79      0.81        99\n",
      "           1       0.65      0.71      0.68        55\n",
      "\n",
      "    accuracy                           0.76       154\n",
      "   macro avg       0.74      0.75      0.74       154\n",
      "weighted avg       0.77      0.76      0.76       154\n",
      "\n",
      "결정 트리(DT) 정확도 : 0.7597\n"
     ]
    }
   ],
   "source": [
    "dt_model = DecisionTreeClassifier()   # 결정 트리(Decision Tree) 모델 생성\n",
    "dt_model.fit(x_train, y_train)        # 모델 학습 (훈련 데이터로 학습 진행)\n",
    "dt_pred = dt_model.predict(x_test)    # 테스트 데이터를 사용하여 예측 수행\n",
    "\n",
    "print(\"\\n[결정 트리(DT] 분류 보고서 :\")\n",
    "print(classification_report(y_test, dt_pred))\n",
    "print(f\"결정 트리(DT) 정확도 : {accuracy_score(y_test, dt_pred):.4f}\")"
   ]
  },
  {
   "cell_type": "markdown",
   "id": "a3651021-e0b8-49f8-8eb4-2e310d8a2676",
   "metadata": {},
   "source": [
    "### 랜덤 포레스트(RF) 모델"
   ]
  },
  {
   "cell_type": "code",
   "execution_count": 70,
   "id": "3200cb02-36d8-4bb6-87f8-25b1db37f9c0",
   "metadata": {
    "scrolled": true
   },
   "outputs": [
    {
     "name": "stdout",
     "output_type": "stream",
     "text": [
      "\n",
      "[랜덤 포레스트(RF)] 분류 보고서 :\n",
      "              precision    recall  f1-score   support\n",
      "\n",
      "           0       0.80      0.81      0.80        99\n",
      "           1       0.65      0.64      0.64        55\n",
      "\n",
      "    accuracy                           0.75       154\n",
      "   macro avg       0.72      0.72      0.72       154\n",
      "weighted avg       0.75      0.75      0.75       154\n",
      "\n",
      "랜덤 포레스트(RF) 정확도 : 0.7468\n"
     ]
    }
   ],
   "source": [
    "rf_model = RandomForestClassifier()\n",
    "rf_model.fit(x_train, y_train)\n",
    "rf_pred = rf_model.predict(x_test)\n",
    "print(\"\\n[랜덤 포레스트(RF)] 분류 보고서 :\")\n",
    "print(classification_report(y_test, rf_pred))\n",
    "print(f\"랜덤 포레스트(RF) 정확도 : {accuracy_score(y_test, rf_pred):.4f}\")"
   ]
  },
  {
   "cell_type": "markdown",
   "id": "58ffa026-4a10-4994-937a-ec7836734909",
   "metadata": {},
   "source": [
    "### SVM 모델"
   ]
  },
  {
   "cell_type": "code",
   "execution_count": 23,
   "id": "5ce8464a-8e59-49c0-950a-f0a5aa99bd68",
   "metadata": {},
   "outputs": [
    {
     "name": "stdout",
     "output_type": "stream",
     "text": [
      "\n",
      "[SVM] 분류 보고서 :\n",
      "              precision    recall  f1-score   support\n",
      "\n",
      "           0       0.77      0.83      0.80        99\n",
      "           1       0.65      0.56      0.60        55\n",
      "\n",
      "    accuracy                           0.73       154\n",
      "   macro avg       0.71      0.70      0.70       154\n",
      "weighted avg       0.73      0.73      0.73       154\n",
      "\n",
      "SVM 정확도 : 0.7338\n"
     ]
    }
   ],
   "source": [
    "svm_model = SVC()\n",
    "svm_model.fit(x_train, y_train)\n",
    "svm_pred = svm_model.predict(x_test)\n",
    "print(\"\\n[SVM] 분류 보고서 :\")\n",
    "print(classification_report(y_test, svm_pred))\n",
    "print(f\"SVM 정확도 : {accuracy_score(y_test, svm_pred):.4f}\")"
   ]
  },
  {
   "cell_type": "markdown",
   "id": "ff797b12-2b1f-4e18-880f-05f97a59518c",
   "metadata": {},
   "source": [
    "### 로지스틱 회귀(LR) 모델"
   ]
  },
  {
   "cell_type": "code",
   "execution_count": 25,
   "id": "0ff184cb-6f11-45a7-9f6b-027b7f3817f5",
   "metadata": {},
   "outputs": [
    {
     "name": "stdout",
     "output_type": "stream",
     "text": [
      "\n",
      "[로지스틱 회귀(LR)] 분류 보고서 :\n",
      "              precision    recall  f1-score   support\n",
      "\n",
      "           0       0.81      0.80      0.81        99\n",
      "           1       0.65      0.67      0.66        55\n",
      "\n",
      "    accuracy                           0.75       154\n",
      "   macro avg       0.73      0.74      0.73       154\n",
      "weighted avg       0.76      0.75      0.75       154\n",
      "\n",
      "로지스틱 회귀(LR) 정확도 : 0.7532\n"
     ]
    }
   ],
   "source": [
    "lr_model = LogisticRegression(max_iter=200)\n",
    "lr_model.fit(x_train, y_train)\n",
    "lr_pred = lr_model.predict(x_test)\n",
    "print(\"\\n[로지스틱 회귀(LR)] 분류 보고서 :\")\n",
    "print(classification_report(y_test, lr_pred))\n",
    "print(f\"로지스틱 회귀(LR) 정확도 : {accuracy_score(y_test, lr_pred):.4f}\")"
   ]
  },
  {
   "cell_type": "code",
   "execution_count": 49,
   "id": "7117b1fa-3ee2-4d02-9865-e72fd47037d8",
   "metadata": {},
   "outputs": [
    {
     "name": "stdout",
     "output_type": "stream",
     "text": [
      "[0 1 1 0 0 0 0 0 0 1]\n",
      "629    0\n",
      "516    1\n",
      "375    1\n",
      "451    1\n",
      "511    0\n",
      "234    0\n",
      "361    0\n",
      "494    0\n",
      "692    0\n",
      "404    1\n",
      "Name: Outcome, dtype: int64\n"
     ]
    }
   ],
   "source": [
    "# K-NN 모델 초기화\n",
    "k = 100  # k 값은 사용자에 맞게 설정할 수 있습니다.\n",
    "knn = KNeighborsClassifier(n_neighbors=k)\n",
    "\n",
    "# 모델 훈련\n",
    "knn.fit(x_train, y_train)\n",
    "\n",
    "# 예측\n",
    "y_pred = knn.predict(x_test)\n",
    "\n",
    "print(y_pred[50:60])\n",
    "print(y_test[50:60])"
   ]
  },
  {
   "cell_type": "markdown",
   "id": "cbdd3d2c-8226-4693-8b35-3fa8ee4da056",
   "metadata": {},
   "source": [
    "### K-NN 모델"
   ]
  },
  {
   "cell_type": "code",
   "execution_count": 49,
   "id": "f0d3efca-b86b-4b05-adff-7787c2c62a48",
   "metadata": {},
   "outputs": [
    {
     "name": "stdout",
     "output_type": "stream",
     "text": [
      "[0 1 1 0 0 0 0 0 0 1]\n",
      "629    0\n",
      "516    1\n",
      "375    1\n",
      "451    1\n",
      "511    0\n",
      "234    0\n",
      "361    0\n",
      "494    0\n",
      "692    0\n",
      "404    1\n",
      "Name: Outcome, dtype: int64\n"
     ]
    }
   ],
   "source": [
    "# K-NN 모델 초기화\n",
    "k = 100  # k 값은 사용자에 맞게 설정할 수 있습니다.\n",
    "knn = KNeighborsClassifier(n_neighbors=k)\n",
    "\n",
    "# 모델 훈련\n",
    "knn.fit(x_train, y_train)\n",
    "\n",
    "# 예측\n",
    "y_pred = knn.predict(x_test)\n",
    "\n",
    "print(y_pred[50:60])\n",
    "print(y_test[50:60])"
   ]
  },
  {
   "cell_type": "code",
   "execution_count": 43,
   "id": "2886dafc-ba99-49db-bdc8-ca4af3008d6a",
   "metadata": {},
   "outputs": [
    {
     "name": "stdout",
     "output_type": "stream",
     "text": [
      "Accuracy: 0.7727\n"
     ]
    }
   ],
   "source": [
    "# 정확도 출력\n",
    "accuracy = accuracy_score(y_test, y_pred)\n",
    "print(f\"Accuracy: {accuracy :.4f}\")"
   ]
  },
  {
   "cell_type": "markdown",
   "id": "5515a4ed-fa6f-40c4-b444-bb07896d4eee",
   "metadata": {},
   "source": [
    "### K 값 튜닝 그래프 그리기"
   ]
  },
  {
   "cell_type": "code",
   "execution_count": 45,
   "id": "d863a349-24a2-4e07-a9a9-6e866984a9a5",
   "metadata": {},
   "outputs": [
    {
     "data": {
      "image/png": "[encoded data removed]",
      "text/plain": [
       "<Figure size 640x480 with 1 Axes>"
      ]
     },
     "metadata": {},
     "output_type": "display_data"
    }
   ],
   "source": [
    "# 여러 K 값에 대해 정확도 확인\n",
    "k_values = range(1, 101)  # 1부터 20까지의 K 값\n",
    "accuracies = []\n",
    "\n",
    "for k in k_values:\n",
    "    knn = KNeighborsClassifier(n_neighbors=k)\n",
    "    knn.fit(x_train, y_train)\n",
    "    y_pred = knn.predict(x_test)\n",
    "    accuracies.append(accuracy_score(y_test, y_pred))\n",
    "\n",
    "# 정확도를 그래프으로 시각화\n",
    "plt.plot(k_values, accuracies)\n",
    "plt.xlabel('K value')\n",
    "plt.ylabel('Accuracy')\n",
    "plt.title('K-NN Accuracy vs. K value')\n",
    "plt.show()"
   ]
  },
  {
   "cell_type": "code",
   "execution_count": null,
   "id": "18cd7659-3e7e-4a16-8361-97eeb7219b95",
   "metadata": {},
   "outputs": [],
   "source": []
  }
 ],
 "metadata": {
  "kernelspec": {
   "display_name": "Python [conda env:base] *",
   "language": "python",
   "name": "conda-base-py"
  },
  "language_info": {
   "codemirror_mode": {
    "name": "ipython",
    "version": 3
   },
   "file_extension": ".py",
   "mimetype": "text/x-python",
   "name": "python",
   "nbconvert_exporter": "python",
   "pygments_lexer": "ipython3",
   "version": "3.12.7"
  }
 },
 "nbformat": 4,
 "nbformat_minor": 5
}
