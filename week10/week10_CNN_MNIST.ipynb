{
 "cells": [
  {
   "cell_type": "markdown",
   "id": "8e8d6e39-7cad-419b-a1a7-80ae7e98b653",
   "metadata": {},
   "source": [
    "# Week10 - MNIST 숫자 데이터 분류 모델 생성 / CNN - 딥러닝\n",
    "\n",
    "202334716 이예나\n",
    "\n",
    "---"
   ]
  },
  {
   "cell_type": "markdown",
   "id": "e97b5449-2382-4a0a-a283-2ce3f866aaca",
   "metadata": {},
   "source": [
    "### CNN (Convolutional Neural Network)\n",
    "\n",
    ": 주로 이미지나 비디오와 같은 2D 또는 3D 데이터를 처리하는 데 최적화된 딥러닝 모델  \n",
    "일반적으로 이미지 분류나 객체 인식과 같은 비전 관련 문제를 해결하는 데 사용\n",
    "\n",
    "CNN의 핵심 아이디어는 합성곱(convolution) 연산을 통해 입력 이미지에서 특징(feature)을 추출하는 것  \n",
    "이 방식은 이미지에서 중요한 특징을 찾고, 그 특징들을 조합하여 더 높은 수준의 정보를 얻는 방식\n",
    "\n",
    "---\n",
    "\n",
    "### CNN 구성 요소\n",
    "\n",
    "1. 합성곱 계층 (Convolutional Layer)  \n",
    "   - 입력 이미지에 필터(filter) 또는 커널(kernel)을 슬라이딩하며 합성곱 연산을 수행하여 특성 맵(feature map)을 생성  \n",
    "   - 이미지에서 중요한 특징을 추출  \n",
    "     - 예: 가장자리(edge), 선(line), 질감(texture) 등을 인식\n",
    "\n",
    "2. 풀링 계층 (Pooling Layer)  \n",
    "   - Max Pooling 또는 Average Pooling 등의 방법으로 이미지의 공간적인 크기를 줄인다  \n",
    "   - 계산량을 줄이고, 모델의 일반화 성능을 향상  \n",
    "   - 일반적으로 2x2나 3x3 크기의 풀링 커널을 사용\n",
    "\n",
    "3. 완전 연결 계층 (Fully Connected Layer)  \n",
    "   - 합성곱 계층과 풀링 계층을 통해 추출된 특징을 바탕으로 결정을 내리는 계층  \n",
    "   - 이 계층에서는 전통적인 DNN (Deep Neural Network) 방식으로 뉴런들이 연결된다\n",
    "\n",
    "4. 활성화 함수 (Activation Function)  \n",
    "   - 각 뉴런에 비선형성을 추가하여 신경망이 복잡한 패턴을 학습한다  \n",
    "   - ReLU (Rectified Linear Unit) 함수가 주로 사용된다\n",
    "\n",
    "5. 출력 계층 (Output Layer)  \n",
    "   - Softmax와 같은 활성화 함수를 사용하여 클래스별 확률을 계산하고, 최종적인 분류 결과를 출력\n",
    "\n",
    "---\n",
    "\n",
    "### CNN 특징\n",
    "\n",
    "1. 지역적 연결  \n",
    "   - CNN은 각 뉴런이 전체 이미지에 연결되지 않고, 일정 범위의 지역만을 보고 학습  \n",
    "   - 이미지에서 중요한 지역적 패턴을 추출하는 데 효과적\n",
    "\n",
    "2. 파라미터 공유  \n",
    "   - 동일한 필터가 이미지의 모든 영역에 적용되므로 파라미터 수가 대폭 줄어들어 모델이 효율적으로 학습할 수 있다\n",
    "\n",
    "3. 계층적 학습  \n",
    "   - CNN은 저수준의 특징(엣지, 텍스처 등)을 추출한 후, 고수준의 복잡한 패턴을 학습\n"
   ]
  },
  {
   "cell_type": "markdown",
   "id": "44657f9a-9c54-4738-bcf8-3a82d74ddf24",
   "metadata": {},
   "source": [
    "---"
   ]
  },
  {
   "cell_type": "markdown",
   "id": "62320669-29c7-416c-ad88-6c62b3f4cd83",
   "metadata": {},
   "source": [
    "### 라이브러리 불러오기"
   ]
  },
  {
   "cell_type": "code",
   "execution_count": 5,
   "id": "4ea86813-6de2-49d3-9797-8756c2070950",
   "metadata": {},
   "outputs": [],
   "source": [
    "import tensorflow as tf\n",
    "from tensorflow.keras import datasets, layers, models"
   ]
  },
  {
   "cell_type": "markdown",
   "id": "a2cdd894-1c7b-4e3d-9aca-2d802de08060",
   "metadata": {},
   "source": [
    "### MNIST 숫자 데이터셋 불러오기"
   ]
  },
  {
   "cell_type": "code",
   "execution_count": 7,
   "id": "69b09a2f-5885-45e4-8121-8736a9f4725c",
   "metadata": {},
   "outputs": [],
   "source": [
    "# MNIST 데이터셋 불러오기\n",
    "(x_train, y_train), (x_test, y_test) = datasets.mnist.load_data()"
   ]
  },
  {
   "cell_type": "markdown",
   "id": "86453eb5-15fc-4c8d-8d2d-2c4890a73153",
   "metadata": {},
   "source": [
    "### 데이터 전처리 및 정규화"
   ]
  },
  {
   "cell_type": "code",
   "execution_count": 9,
   "id": "fe451933-864c-4f6b-afd9-307e9a96c73f",
   "metadata": {},
   "outputs": [],
   "source": [
    "x_train = x_train.reshape((60000, 28, 28, 1))  # (batch_size, height, width, channels)\n",
    "x_test = x_test.reshape((10000, 28, 28, 1))\n",
    "x_train, x_test = x_train / 255.0, x_test / 255.0  # 픽셀 값 정규화"
   ]
  },
  {
   "cell_type": "markdown",
   "id": "688413b5-3f65-4940-a52e-614122ba392b",
   "metadata": {},
   "source": [
    "### 모델 생성 및 훈련"
   ]
  },
  {
   "cell_type": "code",
   "execution_count": 11,
   "id": "2d64fc8a-c1fa-415b-ac4b-95aa4bab58cd",
   "metadata": {},
   "outputs": [
    {
     "name": "stderr",
     "output_type": "stream",
     "text": [
      "/opt/anaconda3/lib/python3.12/site-packages/keras/src/layers/convolutional/base_conv.py:107: UserWarning: Do not pass an `input_shape`/`input_dim` argument to a layer. When using Sequential models, prefer using an `Input(shape)` object as the first layer in the model instead.\n",
      "  super().__init__(activity_regularizer=activity_regularizer, **kwargs)\n"
     ]
    }
   ],
   "source": [
    "model = models.Sequential()\n",
    "model.add(layers.Conv2D(32, (3, 3), activation='relu', input_shape=(28, 28, 1))) # 합성곱 계층\n",
    "model.add(layers.MaxPooling2D((2, 2))) # 최대 풀링 계층\n",
    "model.add(layers.Conv2D(64, (3, 3), activation='relu'))\n",
    "model.add(layers.MaxPooling2D((2, 2)))\n",
    "model.add(layers.Conv2D(64, (3, 3), activation='relu'))\n",
    "model.add(layers.Flatten()) # 평탄화 계층\n",
    "model.add(layers.Dense(64, activation='relu')) # 완전 연결(Dense)\n",
    "model.add(layers.Dense(10, activation='softmax')) # 출력"
   ]
  },
  {
   "cell_type": "markdown",
   "id": "b5ad3469-e285-46a9-8def-6e9f56a71606",
   "metadata": {},
   "source": [
    "- **Conv2D**\n",
    "\n",
    "    : 2차원 이미지에 적용하는 합성곱(Convolution) 계층\n",
    "\n",
    "    32 : 필터의 개수. 즉, 이 계층이 32개의 특징 맵(feature map)을 추출\n",
    "\n",
    "    (3, 3) : 필터의 크기 (커널). 3x3 크기의 작은 윈도우가 이미지 위를 슬라이딩하며 특징을 추출\n",
    "\n",
    "    input_shape=(28, 28, 1) : 입력 이미지의 형태. (높이, 너비, 채널 수)로, MNIST 데이터처럼 28x28 크기의 흑백 이미지는 채널이 1이다\n",
    "\n",
    "\n",
    "- **최대 풀링(Max Pooling) 계층**\n",
    "\n",
    "    (2, 2) : 2x2 크기의 영역에서 가장 큰 값만 추출하여 특성 맵의 크기를 절반으로 줄인다\n",
    "\n",
    "    계산량을 줄이고, 특징의 위치 변화에 덜 민감하게 만들어준다 (불변성)\n",
    "\n",
    "\n",
    "- **평탄화(Flatten) 계층**\n",
    "\n",
    "    2차원으로 된 출력(feature map)을 1차원 벡터로 변환\n",
    "\n",
    "    완전 연결(Dense) 계층으로 연결하기 위한 전처리 과정"
   ]
  },
  {
   "cell_type": "code",
   "execution_count": 13,
   "id": "01ef06bd-565a-4871-af94-680a711a60cd",
   "metadata": {},
   "outputs": [
    {
     "data": {
      "text/html": [
       "<pre style=\"white-space:pre;overflow-x:auto;line-height:normal;font-family:Menlo,'DejaVu Sans Mono',consolas,'Courier New',monospace\"><span style=\"font-weight: bold\">Model: \"sequential\"</span>\n",
       "</pre>\n"
      ],
      "text/plain": [
       "\u001b[1mModel: \"sequential\"\u001b[0m\n"
      ]
     },
     "metadata": {},
     "output_type": "display_data"
    },
    {
     "data": {
      "text/html": [
       "<pre style=\"white-space:pre;overflow-x:auto;line-height:normal;font-family:Menlo,'DejaVu Sans Mono',consolas,'Courier New',monospace\">┏━━━━━━━━━━━━━━━━━━━━━━━━━━━━━━━━━┳━━━━━━━━━━━━━━━━━━━━━━━━┳━━━━━━━━━━━━━━━┓\n",
       "┃<span style=\"font-weight: bold\"> Layer (type)                    </span>┃<span style=\"font-weight: bold\"> Output Shape           </span>┃<span style=\"font-weight: bold\">       Param # </span>┃\n",
       "┡━━━━━━━━━━━━━━━━━━━━━━━━━━━━━━━━━╇━━━━━━━━━━━━━━━━━━━━━━━━╇━━━━━━━━━━━━━━━┩\n",
       "│ conv2d (<span style=\"color: #0087ff; text-decoration-color: #0087ff\">Conv2D</span>)                 │ (<span style=\"color: #00d7ff; text-decoration-color: #00d7ff\">None</span>, <span style=\"color: #00af00; text-decoration-color: #00af00\">26</span>, <span style=\"color: #00af00; text-decoration-color: #00af00\">26</span>, <span style=\"color: #00af00; text-decoration-color: #00af00\">32</span>)     │           <span style=\"color: #00af00; text-decoration-color: #00af00\">320</span> │\n",
       "├─────────────────────────────────┼────────────────────────┼───────────────┤\n",
       "│ max_pooling2d (<span style=\"color: #0087ff; text-decoration-color: #0087ff\">MaxPooling2D</span>)    │ (<span style=\"color: #00d7ff; text-decoration-color: #00d7ff\">None</span>, <span style=\"color: #00af00; text-decoration-color: #00af00\">13</span>, <span style=\"color: #00af00; text-decoration-color: #00af00\">13</span>, <span style=\"color: #00af00; text-decoration-color: #00af00\">32</span>)     │             <span style=\"color: #00af00; text-decoration-color: #00af00\">0</span> │\n",
       "├─────────────────────────────────┼────────────────────────┼───────────────┤\n",
       "│ conv2d_1 (<span style=\"color: #0087ff; text-decoration-color: #0087ff\">Conv2D</span>)               │ (<span style=\"color: #00d7ff; text-decoration-color: #00d7ff\">None</span>, <span style=\"color: #00af00; text-decoration-color: #00af00\">11</span>, <span style=\"color: #00af00; text-decoration-color: #00af00\">11</span>, <span style=\"color: #00af00; text-decoration-color: #00af00\">64</span>)     │        <span style=\"color: #00af00; text-decoration-color: #00af00\">18,496</span> │\n",
       "├─────────────────────────────────┼────────────────────────┼───────────────┤\n",
       "│ max_pooling2d_1 (<span style=\"color: #0087ff; text-decoration-color: #0087ff\">MaxPooling2D</span>)  │ (<span style=\"color: #00d7ff; text-decoration-color: #00d7ff\">None</span>, <span style=\"color: #00af00; text-decoration-color: #00af00\">5</span>, <span style=\"color: #00af00; text-decoration-color: #00af00\">5</span>, <span style=\"color: #00af00; text-decoration-color: #00af00\">64</span>)       │             <span style=\"color: #00af00; text-decoration-color: #00af00\">0</span> │\n",
       "├─────────────────────────────────┼────────────────────────┼───────────────┤\n",
       "│ conv2d_2 (<span style=\"color: #0087ff; text-decoration-color: #0087ff\">Conv2D</span>)               │ (<span style=\"color: #00d7ff; text-decoration-color: #00d7ff\">None</span>, <span style=\"color: #00af00; text-decoration-color: #00af00\">3</span>, <span style=\"color: #00af00; text-decoration-color: #00af00\">3</span>, <span style=\"color: #00af00; text-decoration-color: #00af00\">64</span>)       │        <span style=\"color: #00af00; text-decoration-color: #00af00\">36,928</span> │\n",
       "├─────────────────────────────────┼────────────────────────┼───────────────┤\n",
       "│ flatten (<span style=\"color: #0087ff; text-decoration-color: #0087ff\">Flatten</span>)               │ (<span style=\"color: #00d7ff; text-decoration-color: #00d7ff\">None</span>, <span style=\"color: #00af00; text-decoration-color: #00af00\">576</span>)            │             <span style=\"color: #00af00; text-decoration-color: #00af00\">0</span> │\n",
       "├─────────────────────────────────┼────────────────────────┼───────────────┤\n",
       "│ dense (<span style=\"color: #0087ff; text-decoration-color: #0087ff\">Dense</span>)                   │ (<span style=\"color: #00d7ff; text-decoration-color: #00d7ff\">None</span>, <span style=\"color: #00af00; text-decoration-color: #00af00\">64</span>)             │        <span style=\"color: #00af00; text-decoration-color: #00af00\">36,928</span> │\n",
       "├─────────────────────────────────┼────────────────────────┼───────────────┤\n",
       "│ dense_1 (<span style=\"color: #0087ff; text-decoration-color: #0087ff\">Dense</span>)                 │ (<span style=\"color: #00d7ff; text-decoration-color: #00d7ff\">None</span>, <span style=\"color: #00af00; text-decoration-color: #00af00\">10</span>)             │           <span style=\"color: #00af00; text-decoration-color: #00af00\">650</span> │\n",
       "└─────────────────────────────────┴────────────────────────┴───────────────┘\n",
       "</pre>\n"
      ],
      "text/plain": [
       "┏━━━━━━━━━━━━━━━━━━━━━━━━━━━━━━━━━┳━━━━━━━━━━━━━━━━━━━━━━━━┳━━━━━━━━━━━━━━━┓\n",
       "┃\u001b[1m \u001b[0m\u001b[1mLayer (type)                   \u001b[0m\u001b[1m \u001b[0m┃\u001b[1m \u001b[0m\u001b[1mOutput Shape          \u001b[0m\u001b[1m \u001b[0m┃\u001b[1m \u001b[0m\u001b[1m      Param #\u001b[0m\u001b[1m \u001b[0m┃\n",
       "┡━━━━━━━━━━━━━━━━━━━━━━━━━━━━━━━━━╇━━━━━━━━━━━━━━━━━━━━━━━━╇━━━━━━━━━━━━━━━┩\n",
       "│ conv2d (\u001b[38;5;33mConv2D\u001b[0m)                 │ (\u001b[38;5;45mNone\u001b[0m, \u001b[38;5;34m26\u001b[0m, \u001b[38;5;34m26\u001b[0m, \u001b[38;5;34m32\u001b[0m)     │           \u001b[38;5;34m320\u001b[0m │\n",
       "├─────────────────────────────────┼────────────────────────┼───────────────┤\n",
       "│ max_pooling2d (\u001b[38;5;33mMaxPooling2D\u001b[0m)    │ (\u001b[38;5;45mNone\u001b[0m, \u001b[38;5;34m13\u001b[0m, \u001b[38;5;34m13\u001b[0m, \u001b[38;5;34m32\u001b[0m)     │             \u001b[38;5;34m0\u001b[0m │\n",
       "├─────────────────────────────────┼────────────────────────┼───────────────┤\n",
       "│ conv2d_1 (\u001b[38;5;33mConv2D\u001b[0m)               │ (\u001b[38;5;45mNone\u001b[0m, \u001b[38;5;34m11\u001b[0m, \u001b[38;5;34m11\u001b[0m, \u001b[38;5;34m64\u001b[0m)     │        \u001b[38;5;34m18,496\u001b[0m │\n",
       "├─────────────────────────────────┼────────────────────────┼───────────────┤\n",
       "│ max_pooling2d_1 (\u001b[38;5;33mMaxPooling2D\u001b[0m)  │ (\u001b[38;5;45mNone\u001b[0m, \u001b[38;5;34m5\u001b[0m, \u001b[38;5;34m5\u001b[0m, \u001b[38;5;34m64\u001b[0m)       │             \u001b[38;5;34m0\u001b[0m │\n",
       "├─────────────────────────────────┼────────────────────────┼───────────────┤\n",
       "│ conv2d_2 (\u001b[38;5;33mConv2D\u001b[0m)               │ (\u001b[38;5;45mNone\u001b[0m, \u001b[38;5;34m3\u001b[0m, \u001b[38;5;34m3\u001b[0m, \u001b[38;5;34m64\u001b[0m)       │        \u001b[38;5;34m36,928\u001b[0m │\n",
       "├─────────────────────────────────┼────────────────────────┼───────────────┤\n",
       "│ flatten (\u001b[38;5;33mFlatten\u001b[0m)               │ (\u001b[38;5;45mNone\u001b[0m, \u001b[38;5;34m576\u001b[0m)            │             \u001b[38;5;34m0\u001b[0m │\n",
       "├─────────────────────────────────┼────────────────────────┼───────────────┤\n",
       "│ dense (\u001b[38;5;33mDense\u001b[0m)                   │ (\u001b[38;5;45mNone\u001b[0m, \u001b[38;5;34m64\u001b[0m)             │        \u001b[38;5;34m36,928\u001b[0m │\n",
       "├─────────────────────────────────┼────────────────────────┼───────────────┤\n",
       "│ dense_1 (\u001b[38;5;33mDense\u001b[0m)                 │ (\u001b[38;5;45mNone\u001b[0m, \u001b[38;5;34m10\u001b[0m)             │           \u001b[38;5;34m650\u001b[0m │\n",
       "└─────────────────────────────────┴────────────────────────┴───────────────┘\n"
      ]
     },
     "metadata": {},
     "output_type": "display_data"
    },
    {
     "data": {
      "text/html": [
       "<pre style=\"white-space:pre;overflow-x:auto;line-height:normal;font-family:Menlo,'DejaVu Sans Mono',consolas,'Courier New',monospace\"><span style=\"font-weight: bold\"> Total params: </span><span style=\"color: #00af00; text-decoration-color: #00af00\">93,322</span> (364.54 KB)\n",
       "</pre>\n"
      ],
      "text/plain": [
       "\u001b[1m Total params: \u001b[0m\u001b[38;5;34m93,322\u001b[0m (364.54 KB)\n"
      ]
     },
     "metadata": {},
     "output_type": "display_data"
    },
    {
     "data": {
      "text/html": [
       "<pre style=\"white-space:pre;overflow-x:auto;line-height:normal;font-family:Menlo,'DejaVu Sans Mono',consolas,'Courier New',monospace\"><span style=\"font-weight: bold\"> Trainable params: </span><span style=\"color: #00af00; text-decoration-color: #00af00\">93,322</span> (364.54 KB)\n",
       "</pre>\n"
      ],
      "text/plain": [
       "\u001b[1m Trainable params: \u001b[0m\u001b[38;5;34m93,322\u001b[0m (364.54 KB)\n"
      ]
     },
     "metadata": {},
     "output_type": "display_data"
    },
    {
     "data": {
      "text/html": [
       "<pre style=\"white-space:pre;overflow-x:auto;line-height:normal;font-family:Menlo,'DejaVu Sans Mono',consolas,'Courier New',monospace\"><span style=\"font-weight: bold\"> Non-trainable params: </span><span style=\"color: #00af00; text-decoration-color: #00af00\">0</span> (0.00 B)\n",
       "</pre>\n"
      ],
      "text/plain": [
       "\u001b[1m Non-trainable params: \u001b[0m\u001b[38;5;34m0\u001b[0m (0.00 B)\n"
      ]
     },
     "metadata": {},
     "output_type": "display_data"
    }
   ],
   "source": [
    "# 모델 요약 출력\n",
    "model.summary()"
   ]
  },
  {
   "cell_type": "code",
   "execution_count": 14,
   "id": "53169c1e-2faf-45ad-9138-84212be0c952",
   "metadata": {},
   "outputs": [],
   "source": [
    "# 모델 컴파일\n",
    "model.compile(optimizer='adam', loss='sparse_categorical_crossentropy', metrics=['accuracy'])"
   ]
  },
  {
   "cell_type": "code",
   "execution_count": 15,
   "id": "0d074baa-bd43-4327-942f-f1ba998103a2",
   "metadata": {},
   "outputs": [
    {
     "name": "stdout",
     "output_type": "stream",
     "text": [
      "Epoch 1/5\n",
      "\u001b[1m1688/1688\u001b[0m \u001b[32m━━━━━━━━━━━━━━━━━━━━\u001b[0m\u001b[37m\u001b[0m \u001b[1m7s\u001b[0m 4ms/step - accuracy: 0.8779 - loss: 0.3779 - val_accuracy: 0.9808 - val_loss: 0.0548\n",
      "Epoch 2/5\n",
      "\u001b[1m1688/1688\u001b[0m \u001b[32m━━━━━━━━━━━━━━━━━━━━\u001b[0m\u001b[37m\u001b[0m \u001b[1m8s\u001b[0m 5ms/step - accuracy: 0.9835 - loss: 0.0512 - val_accuracy: 0.9878 - val_loss: 0.0373\n",
      "Epoch 3/5\n",
      "\u001b[1m1688/1688\u001b[0m \u001b[32m━━━━━━━━━━━━━━━━━━━━\u001b[0m\u001b[37m\u001b[0m \u001b[1m8s\u001b[0m 5ms/step - accuracy: 0.9885 - loss: 0.0359 - val_accuracy: 0.9908 - val_loss: 0.0289\n",
      "Epoch 4/5\n",
      "\u001b[1m1688/1688\u001b[0m \u001b[32m━━━━━━━━━━━━━━━━━━━━\u001b[0m\u001b[37m\u001b[0m \u001b[1m9s\u001b[0m 5ms/step - accuracy: 0.9921 - loss: 0.0249 - val_accuracy: 0.9903 - val_loss: 0.0339\n",
      "Epoch 5/5\n",
      "\u001b[1m1688/1688\u001b[0m \u001b[32m━━━━━━━━━━━━━━━━━━━━\u001b[0m\u001b[37m\u001b[0m \u001b[1m9s\u001b[0m 5ms/step - accuracy: 0.9941 - loss: 0.0205 - val_accuracy: 0.9917 - val_loss: 0.0347\n"
     ]
    }
   ],
   "source": [
    "# 모델 훈련\n",
    "history = model.fit(\n",
    "    x_train, y_train,\n",
    "    epochs=5,\n",
    "    validation_split=0.1,\n",
    ")"
   ]
  },
  {
   "cell_type": "markdown",
   "id": "a1871671-c0fe-43fd-902d-704964bf915b",
   "metadata": {},
   "source": [
    "### 예측 및 평가"
   ]
  },
  {
   "cell_type": "code",
   "execution_count": 17,
   "id": "3492ef9e-43de-4aa8-998c-9e033fc799d7",
   "metadata": {},
   "outputs": [],
   "source": [
    "import numpy as np\n",
    "from sklearn.metrics import classification_report, confusion_matrix\n",
    "import matplotlib.pyplot as plt"
   ]
  },
  {
   "cell_type": "code",
   "execution_count": 18,
   "id": "b98f025f-b033-43ab-b3b6-8ddc261e469c",
   "metadata": {},
   "outputs": [
    {
     "name": "stdout",
     "output_type": "stream",
     "text": [
      "\u001b[1m313/313\u001b[0m \u001b[32m━━━━━━━━━━━━━━━━━━━━\u001b[0m\u001b[37m\u001b[0m \u001b[1m1s\u001b[0m 2ms/step\n"
     ]
    }
   ],
   "source": [
    "# 예측 수행\n",
    "y_pred = model.predict(x_test)\n",
    "y_pred_class = np.argmax(y_pred, axis=1)  # 모델이 예측한 클래스"
   ]
  },
  {
   "cell_type": "code",
   "execution_count": 19,
   "id": "0d155c48-aca7-45f7-9094-b73c23b44d63",
   "metadata": {},
   "outputs": [
    {
     "name": "stdout",
     "output_type": "stream",
     "text": [
      "Classification Report:\n",
      "               precision    recall  f1-score   support\n",
      "\n",
      "           0       0.99      0.99      0.99       980\n",
      "           1       1.00      1.00      1.00      1135\n",
      "           2       1.00      0.99      0.99      1032\n",
      "           3       0.98      1.00      0.99      1010\n",
      "           4       0.99      0.98      0.99       982\n",
      "           5       0.99      0.99      0.99       892\n",
      "           6       1.00      0.99      0.99       958\n",
      "           7       0.99      0.99      0.99      1028\n",
      "           8       0.99      0.99      0.99       974\n",
      "           9       0.98      0.99      0.98      1009\n",
      "\n",
      "    accuracy                           0.99     10000\n",
      "   macro avg       0.99      0.99      0.99     10000\n",
      "weighted avg       0.99      0.99      0.99     10000\n",
      "\n",
      "=============================================\n",
      "Confusion Matrix:\n",
      " [[ 973    0    1    0    1    0    3    1    1    0]\n",
      " [   0 1131    0    2    0    1    0    1    0    0]\n",
      " [   0    0 1025    2    1    0    0    3    1    0]\n",
      " [   0    0    0 1009    0    1    0    0    0    0]\n",
      " [   0    0    1    0  967    0    0    0    0   14]\n",
      " [   1    0    0    8    0  882    1    0    0    0]\n",
      " [   2    2    0    0    3    1  948    0    2    0]\n",
      " [   0    2    1    2    0    0    0 1020    1    2]\n",
      " [   2    0    1    1    0    0    0    1  968    1]\n",
      " [   0    0    0    1    3    4    0    4    2  995]]\n"
     ]
    }
   ],
   "source": [
    "# 분류 리포트 출력\n",
    "print(\"Classification Report:\\n\", classification_report(y_test, y_pred_class))\n",
    "print(\"=============================================\")\n",
    "\n",
    "# 혼동 행렬 출력\n",
    "print(\"Confusion Matrix:\\n\", confusion_matrix(y_test, y_pred_class))"
   ]
  },
  {
   "cell_type": "markdown",
   "id": "00fd535b-a65e-4beb-9d2b-46e48197b00b",
   "metadata": {},
   "source": [
    "### 정확도 시각화"
   ]
  },
  {
   "cell_type": "code",
   "execution_count": 21,
   "id": "ec8b0b49-4f50-4be1-9a23-2ca94de71785",
   "metadata": {},
   "outputs": [
    {
     "data": {
      "image/png": "[encoded data removed]",
      "text/plain": [
       "<Figure size 640x480 with 1 Axes>"
      ]
     },
     "metadata": {},
     "output_type": "display_data"
    }
   ],
   "source": [
    "# 학습 정확도 시각화\n",
    "plt.plot(history.history['accuracy'], label='Train Accuracy')\n",
    "plt.plot(history.history['val_accuracy'], label='Validation Accuracy')\n",
    "plt.title('Training and Validation Accuracy')\n",
    "plt.xlabel('Epoch')\n",
    "plt.ylabel('Accuracy')\n",
    "plt.legend()\n",
    "plt.show()"
   ]
  },
  {
   "cell_type": "markdown",
   "id": "9e766da3-d999-4ffb-94f1-838ef9657128",
   "metadata": {},
   "source": [
    "### 테스트 데이터 시각화 & 예측 결과"
   ]
  },
  {
   "cell_type": "code",
   "execution_count": 23,
   "id": "1cc8dd18-32fc-4df1-977d-9d2c1d883145",
   "metadata": {},
   "outputs": [
    {
     "data": {
      "image/png": "[encoded data removed]",
      "text/plain": [
       "<Figure size 640x480 with 1 Axes>"
      ]
     },
     "metadata": {},
     "output_type": "display_data"
    }
   ],
   "source": [
    "plt.imshow(x_test[0].reshape(28, 28), cmap='gray')\n",
    "plt.title(f\"Predicted: {y_pred_class[0]}, Actual: {y_test[0]}\")\n",
    "plt.axis('off')\n",
    "plt.show()"
   ]
  },
  {
   "cell_type": "markdown",
   "id": "5d2b7c6c-a7fd-42ff-a721-f7e9129d8639",
   "metadata": {},
   "source": [
    "### 모델이 정확하게 예측한 이미지 (0~9)"
   ]
  },
  {
   "cell_type": "code",
   "execution_count": 25,
   "id": "9b0eb82c-8b2f-4b49-a457-b97672e1658a",
   "metadata": {},
   "outputs": [
    {
     "name": "stdout",
     "output_type": "stream",
     "text": [
      "\u001b[1m313/313\u001b[0m \u001b[32m━━━━━━━━━━━━━━━━━━━━\u001b[0m\u001b[37m\u001b[0m \u001b[1m1s\u001b[0m 2ms/step\n"
     ]
    },
    {
     "data": {
      "image/png": "[encoded data removed]",
      "text/plain": [
       "<Figure size 1500x600 with 10 Axes>"
      ]
     },
     "metadata": {},
     "output_type": "display_data"
    }
   ],
   "source": [
    "import numpy as np\n",
    "import matplotlib.pyplot as plt\n",
    "\n",
    "# 모델 예측\n",
    "predictions = model.predict(x_test)\n",
    "predicted_labels = np.argmax(predictions, axis=1)\n",
    "true_labels = y_test\n",
    "\n",
    "# 0부터 9까지 정확히 맞춘 이미지 인덱스를 저장할 딕셔너리\n",
    "correct_indices = {}\n",
    "\n",
    "# 전체 테스트셋에서 각 숫자에 대해 정확히 맞춘 첫 번째 인덱스를 수집\n",
    "for i in range(len(x_test)):\n",
    "    true = true_labels[i]\n",
    "    pred = predicted_labels[i]\n",
    "\n",
    "    if true == pred and true not in correct_indices:\n",
    "        correct_indices[true] = i\n",
    "        if len(correct_indices) == 10:\n",
    "            break\n",
    "\n",
    "# 시각화\n",
    "plt.figure(figsize=(15, 6))\n",
    "for idx, digit in enumerate(range(10)):\n",
    "    i = correct_indices[digit]\n",
    "    plt.subplot(2, 5, idx + 1)\n",
    "    plt.imshow(x_test[i].reshape(28, 28), cmap='gray')\n",
    "    plt.title(f\"Label: {digit}\")\n",
    "    plt.axis('off')\n",
    "\n",
    "plt.tight_layout()\n",
    "plt.show()"
   ]
  },
  {
   "cell_type": "markdown",
   "id": "9e42dfff-62bf-4bad-803a-4d6dbd7fa8e0",
   "metadata": {},
   "source": [
    "### 모델이 틀리게 예측한 이미지 (0~9)"
   ]
  },
  {
   "cell_type": "code",
   "execution_count": 27,
   "id": "e2508420-a630-4404-9775-6058e32ea19a",
   "metadata": {},
   "outputs": [
    {
     "name": "stdout",
     "output_type": "stream",
     "text": [
      "\u001b[1m313/313\u001b[0m \u001b[32m━━━━━━━━━━━━━━━━━━━━\u001b[0m\u001b[37m\u001b[0m \u001b[1m1s\u001b[0m 2ms/step\n"
     ]
    },
    {
     "data": {
      "image/png": "[encoded data removed]",
      "text/plain": [
       "<Figure size 1500x600 with 10 Axes>"
      ]
     },
     "metadata": {},
     "output_type": "display_data"
    }
   ],
   "source": [
    "import numpy as np\n",
    "import matplotlib.pyplot as plt\n",
    "\n",
    "# 예측값 및 실제값\n",
    "predictions = model.predict(x_test)\n",
    "predicted_labels = np.argmax(predictions, axis=1)\n",
    "true_labels = y_test\n",
    "\n",
    "# 0~9까지 틀린 예측 중 하나씩 저장할 딕셔너리\n",
    "wrong_indices = {}\n",
    "\n",
    "# 틀린 예측 중에서 각 숫자당 하나씩만 선택\n",
    "for i in range(len(x_test)):\n",
    "    true = true_labels[i]\n",
    "    pred = predicted_labels[i]\n",
    "    \n",
    "    if true != pred:\n",
    "        if true not in wrong_indices:\n",
    "            wrong_indices[true] = i\n",
    "        if len(wrong_indices) == 10:\n",
    "            break\n",
    "\n",
    "# 시각화\n",
    "plt.figure(figsize=(15, 6))\n",
    "for idx, digit in enumerate(range(10)):\n",
    "    i = wrong_indices[digit]\n",
    "    plt.subplot(2, 5, idx + 1)\n",
    "    plt.imshow(x_test[i].reshape(28, 28), cmap='gray')\n",
    "    plt.title(f\"True: {true_labels[i]}, Pred: {predicted_labels[i]}\")\n",
    "    plt.axis('off')\n",
    "\n",
    "plt.tight_layout()\n",
    "plt.show()"
   ]
  },
  {
   "cell_type": "code",
   "execution_count": null,
   "id": "ceef3d57-b0fb-42a1-945f-ca3f95a3bf47",
   "metadata": {},
   "outputs": [],
   "source": []
  }
 ],
 "metadata": {
  "kernelspec": {
   "display_name": "Python [conda env:base] *",
   "language": "python",
   "name": "conda-base-py"
  },
  "language_info": {
   "codemirror_mode": {
    "name": "ipython",
    "version": 3
   },
   "file_extension": ".py",
   "mimetype": "text/x-python",
   "name": "python",
   "nbconvert_exporter": "python",
   "pygments_lexer": "ipython3",
   "version": "3.12.2"
  }
 },
 "nbformat": 4,
 "nbformat_minor": 5
}
