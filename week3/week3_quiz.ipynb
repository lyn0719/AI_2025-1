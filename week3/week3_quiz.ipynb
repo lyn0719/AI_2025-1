{
 "cells": [
  {
   "cell_type": "code",
   "execution_count": 2,
   "id": "c2dd5c9a-1bdf-4e6a-b6fe-225c2f086907",
   "metadata": {},
   "outputs": [
    {
     "name": "stdout",
     "output_type": "stream",
     "text": [
      "<bound method NDFrame.head of       vhigh vhigh.1      2   2.1  small   low  unacc\n",
      "0     vhigh   vhigh      2     2  small   med  unacc\n",
      "1     vhigh   vhigh      2     2  small  high  unacc\n",
      "2     vhigh   vhigh      2     2    med   low  unacc\n",
      "3     vhigh   vhigh      2     2    med   med  unacc\n",
      "4     vhigh   vhigh      2     2    med  high  unacc\n",
      "...     ...     ...    ...   ...    ...   ...    ...\n",
      "1722    low     low  5more  more    med   med   good\n",
      "1723    low     low  5more  more    med  high  vgood\n",
      "1724    low     low  5more  more    big   low  unacc\n",
      "1725    low     low  5more  more    big   med   good\n",
      "1726    low     low  5more  more    big  high  vgood\n",
      "\n",
      "[1727 rows x 7 columns]>\n",
      "Index(['vhigh', 'vhigh.1', '2', '2.1', 'small', 'low', 'unacc'], dtype='object')\n"
     ]
    }
   ],
   "source": [
    "import pandas as pd\n",
    "\n",
    "# 타이타닉 데이터 CSV 파일 읽기\n",
    "file_path = \"/Users/yenalee/Desktop/workplace/AI_2025-1/week3/car_evaluation.csv\"  # 본인이 iris.csv를 저장한 경로를 입력합니다.\n",
    "df = pd.read_csv(file_path)\n",
    "\n",
    "# 데이터프레임 확인\n",
    "print(df.head)\n",
    "print(df.columns)"
   ]
  },
  {
   "cell_type": "code",
   "execution_count": 4,
   "id": "2b4ae423-37c6-4369-8217-08e5ca3898b0",
   "metadata": {},
   "outputs": [],
   "source": [
    "import pandas as pd\n",
    "import numpy as np\n",
    "from sklearn.model_selection import train_test_split\n",
    "from sklearn.preprocessing import LabelEncoder, StandardScaler\n",
    "from sklearn.svm import SVC\n",
    "from sklearn.tree import DecisionTreeClassifier\n",
    "from sklearn.ensemble import RandomForestClassifier\n",
    "from sklearn.linear_model import LogisticRegression\n",
    "from sklearn.metrics import accuracy_score, classification_report"
   ]
  },
  {
   "cell_type": "code",
   "execution_count": 10,
   "id": "ed5716c5-1362-4859-8832-792b007bf7c4",
   "metadata": {},
   "outputs": [
    {
     "name": "stdout",
     "output_type": "stream",
     "text": [
      "vhigh      0\n",
      "vhigh.1    0\n",
      "2          0\n",
      "2.1        0\n",
      "small      0\n",
      "low        0\n",
      "unacc      0\n",
      "dtype: int64\n"
     ]
    }
   ],
   "source": [
    "# null 값 체크\n",
    "null_counts = df.isnull().sum()\n",
    "print(null_counts)"
   ]
  },
  {
   "cell_type": "code",
   "execution_count": 38,
   "id": "542787b1-81dc-482c-831a-cac91e99e1f6",
   "metadata": {},
   "outputs": [
    {
     "name": "stdout",
     "output_type": "stream",
     "text": [
      "          0         1         2         3         4        5         6\n",
      "0  1.342729  1.342729 -1.342729 -1.225632  1.225632  1.22439  0.510363\n",
      "1  1.342729  1.342729 -1.342729 -1.225632  1.225632 -1.22439  0.510363\n",
      "2  1.342729  1.342729 -1.342729 -1.225632  0.000709  0.00000  0.510363\n",
      "3  1.342729  1.342729 -1.342729 -1.225632  0.000709  1.22439  0.510363\n",
      "4  1.342729  1.342729 -1.342729 -1.225632  0.000709 -1.22439  0.510363\n"
     ]
    }
   ],
   "source": [
    "from sklearn.preprocessing import OneHotEncoder, StandardScaler\n",
    "import pandas as pd\n",
    "\n",
    "# One-Hot Encoding 적용\n",
    "encoder = OneHotEncoder(drop=\"first\", sparse_output=False)  \n",
    "df_encoded = encoder.fit_transform(df.select_dtypes(include=['object']))\n",
    "\n",
    "# 원래 숫자형 컬럼과 결합\n",
    "df_numeric = df.select_dtypes(exclude=['object']).reset_index(drop=True)\n",
    "df_encoded = pd.DataFrame(df_encoded, columns=encoder.get_feature_names_out())  \n",
    "\n",
    "df_final = pd.concat([df_numeric, df_encoded], axis=1)\n",
    "\n",
    "# 정규화\n",
    "scaler = StandardScaler()\n",
    "df_scaled = scaler.fit_transform(df_final)\n",
    "\n",
    "print(pd.DataFrame(df_scaled).head())\n"
   ]
  },
  {
   "cell_type": "code",
   "execution_count": 40,
   "id": "daafc310-be16-4f09-96b1-f4bb9b317f1d",
   "metadata": {},
   "outputs": [],
   "source": [
    "# 데이터 분할\n",
    "x = df.drop(columns=['unacc'])  # 'unacc' 열을 제외한 피처들\n",
    "y = df['unacc']  # 'unacc' 열을 타겟으로\n",
    "\n",
    "# 학습 데이터와 테스트 데이터로 분리 (80% 학습, 20% 테스트)\n",
    "x_train, x_test, y_train, y_test = train_test_split(x, y, test_size=0.2, random_state=42)"
   ]
  },
  {
   "cell_type": "code",
   "execution_count": 42,
   "id": "93252636-9a68-4ba8-b929-88faf4948632",
   "metadata": {},
   "outputs": [],
   "source": [
    "# 데이터 정규화\n",
    "scaler = StandardScaler()\n",
    "x_train = scaler.fit_transform(x_train)  # 학습 데이터 표준화\n",
    "x_test = scaler.transform(x_test)  # 테스트 데이터 표준화"
   ]
  },
  {
   "cell_type": "code",
   "execution_count": 44,
   "id": "6ae629ef-a98e-4e54-b268-27f63d055906",
   "metadata": {},
   "outputs": [
    {
     "name": "stdout",
     "output_type": "stream",
     "text": [
      "\n",
      "[결정 트리(DT] 분류 보고서 :\n",
      "              precision    recall  f1-score   support\n",
      "\n",
      "           0       0.96      0.95      0.95        77\n",
      "           1       0.75      0.80      0.77        15\n",
      "           2       1.00      1.00      1.00       237\n",
      "           3       0.83      0.88      0.86        17\n",
      "\n",
      "    accuracy                           0.97       346\n",
      "   macro avg       0.89      0.91      0.90       346\n",
      "weighted avg       0.97      0.97      0.97       346\n",
      "\n",
      "결정 트리(DT) 정확도 : 0.9711\n"
     ]
    }
   ],
   "source": [
    "dt_model = DecisionTreeClassifier()   # 결정 트리(Decision Tree) 모델 생성\n",
    "dt_model.fit(x_train, y_train)        # 모델 학습 (훈련 데이터로 학습 진행)\n",
    "dt_pred = dt_model.predict(x_test)    # 테스트 데이터를 사용하여 예측 수행\n",
    "\n",
    "print(\"\\n[결정 트리(DT] 분류 보고서 :\")\n",
    "print(classification_report(y_test, dt_pred))\n",
    "print(f\"결정 트리(DT) 정확도 : {accuracy_score(y_test, dt_pred):.4f}\")"
   ]
  },
  {
   "cell_type": "code",
   "execution_count": 46,
   "id": "dcb531ed-6829-444a-ad25-72939a088452",
   "metadata": {},
   "outputs": [
    {
     "name": "stdout",
     "output_type": "stream",
     "text": [
      "\n",
      "[랜덤 포레스트(RF)] 분류 보고서 :\n",
      "              precision    recall  f1-score   support\n",
      "\n",
      "           0       0.96      0.95      0.95        77\n",
      "           1       0.91      0.67      0.77        15\n",
      "           2       1.00      1.00      1.00       237\n",
      "           3       0.73      0.94      0.82        17\n",
      "\n",
      "    accuracy                           0.97       346\n",
      "   macro avg       0.90      0.89      0.88       346\n",
      "weighted avg       0.97      0.97      0.97       346\n",
      "\n",
      "랜덤 포레스트(RF) 정확도 : 0.9682\n"
     ]
    }
   ],
   "source": [
    "rf_model = RandomForestClassifier()\n",
    "rf_model.fit(x_train, y_train)\n",
    "rf_pred = rf_model.predict(x_test)\n",
    "print(\"\\n[랜덤 포레스트(RF)] 분류 보고서 :\")\n",
    "print(classification_report(y_test, rf_pred))\n",
    "print(f\"랜덤 포레스트(RF) 정확도 : {accuracy_score(y_test, rf_pred):.4f}\")"
   ]
  },
  {
   "cell_type": "code",
   "execution_count": 50,
   "id": "961a2006-af8d-496a-8b3c-80e7a898312e",
   "metadata": {},
   "outputs": [
    {
     "name": "stdout",
     "output_type": "stream",
     "text": [
      "unacc\n",
      "2    972\n",
      "0    307\n",
      "1     54\n",
      "3     48\n",
      "Name: count, dtype: int64\n",
      "unacc\n",
      "2    237\n",
      "0     77\n",
      "3     17\n",
      "1     15\n",
      "Name: count, dtype: int64\n"
     ]
    }
   ],
   "source": [
    "import numpy as np\n",
    "import pandas as pd\n",
    "\n",
    "# 각 클래스의 개수 확인\n",
    "print(pd.Series(y_train).value_counts())\n",
    "print(pd.Series(y_test).value_counts())"
   ]
  },
  {
   "cell_type": "code",
   "execution_count": 68,
   "id": "07e1eff1-a3bc-4b86-92fc-008553483d2b",
   "metadata": {},
   "outputs": [
    {
     "name": "stdout",
     "output_type": "stream",
     "text": [
      "\n",
      "[SVM] 분류 보고서 :\n",
      "              precision    recall  f1-score   support\n",
      "\n",
      "           0       0.70      0.90      0.78        77\n",
      "           1       1.00      0.00      0.00        15\n",
      "           2       0.97      0.95      0.96       237\n",
      "           3       0.93      0.82      0.88        17\n",
      "\n",
      "    accuracy                           0.89       346\n",
      "   macro avg       0.90      0.67      0.65       346\n",
      "weighted avg       0.91      0.89      0.87       346\n",
      "\n",
      "SVM 정확도 : 0.8873\n"
     ]
    }
   ],
   "source": [
    "from sklearn.svm import SVC\n",
    "from sklearn.metrics import classification_report, accuracy_score\n",
    "\n",
    "# SVM 모델 학습 및 예측\n",
    "svm_model = SVC()\n",
    "svm_model.fit(x_train, y_train)\n",
    "svm_pred = svm_model.predict(x_test)\n",
    "\n",
    "# 분류 보고서 출력 (zero_division 옵션 추가)\n",
    "print(\"\\n[SVM] 분류 보고서 :\")\n",
    "print(classification_report(y_test, svm_pred, zero_division=1))\n",
    "\n",
    "# 정확도 출력\n",
    "print(f\"SVM 정확도 : {accuracy_score(y_test, svm_pred):.4f}\")  # zero_division 제거"
   ]
  },
  {
   "cell_type": "code",
   "execution_count": 70,
   "id": "7c4b0125-8f56-4f14-8e62-3e5879661d4c",
   "metadata": {},
   "outputs": [
    {
     "name": "stdout",
     "output_type": "stream",
     "text": [
      "\n",
      "[로지스틱 회귀(LR)] 분류 보고서 :\n",
      "              precision    recall  f1-score   support\n",
      "\n",
      "           0       0.32      0.16      0.21        77\n",
      "           1       1.00      0.00      0.00        15\n",
      "           2       0.73      0.95      0.83       237\n",
      "           3       0.50      0.06      0.11        17\n",
      "\n",
      "    accuracy                           0.68       346\n",
      "   macro avg       0.64      0.29      0.28       346\n",
      "weighted avg       0.64      0.68      0.62       346\n",
      "\n",
      "로지스틱 회귀(LR) 정확도 : 0.6850\n"
     ]
    }
   ],
   "source": [
    "from sklearn.svm import SVC\n",
    "from sklearn.metrics import classification_report, accuracy_score\n",
    "\n",
    "lr_model = LogisticRegression(max_iter=200)\n",
    "lr_model.fit(x_train, y_train)\n",
    "lr_pred = lr_model.predict(x_test)\n",
    "print(\"\\n[로지스틱 회귀(LR)] 분류 보고서 :\")\n",
    "print(classification_report(y_test, lr_pred, zero_division=1))\n",
    "print(f\"로지스틱 회귀(LR) 정확도 : {accuracy_score(y_test, lr_pred):.4f}\")"
   ]
  },
  {
   "cell_type": "code",
   "execution_count": 72,
   "id": "7380c4b6-381b-41a4-b134-30cc3db00a1e",
   "metadata": {},
   "outputs": [],
   "source": [
    "import pandas as pd\n",
    "from sklearn.model_selection import train_test_split\n",
    "from sklearn.neighbors import KNeighborsClassifier\n",
    "from sklearn.metrics import accuracy_score\n",
    "import matplotlib.pyplot as plt"
   ]
  },
  {
   "cell_type": "code",
   "execution_count": 74,
   "id": "11e219d6-0c3f-4669-bfaf-20a3e308a706",
   "metadata": {},
   "outputs": [],
   "source": [
    "# 데이터 스케일링 (KNN은 거리 기반 알고리즘이므로 필요함)\n",
    "scaler = StandardScaler()\n",
    "x_train = scaler.fit_transform(x_train)\n",
    "x_test = scaler.transform(x_test)"
   ]
  },
  {
   "cell_type": "code",
   "execution_count": 76,
   "id": "47af102d-faf9-4ff0-8ffd-75163e858a7b",
   "metadata": {},
   "outputs": [
    {
     "name": "stdout",
     "output_type": "stream",
     "text": [
      "[2 2 2 0 2 0 2 2 2 2]\n"
     ]
    }
   ],
   "source": [
    "# K-NN 모델 초기화\n",
    "k = 3  # k 값은 사용자에 맞게 설정할 수 있습니다.\n",
    "knn = KNeighborsClassifier(n_neighbors=k)\n",
    "\n",
    "# 모델 훈련\n",
    "knn.fit(x_train, y_train)\n",
    "\n",
    "# 예측\n",
    "y_pred = knn.predict(x_test)\n",
    "\n",
    "print(y_pred[0:10]) # 예측 데이터 값 확인"
   ]
  },
  {
   "cell_type": "code",
   "execution_count": null,
   "id": "fdbfcad7-3751-42cc-b76d-a8dfc12fab0d",
   "metadata": {},
   "outputs": [],
   "source": []
  }
 ],
 "metadata": {
  "kernelspec": {
   "display_name": "Python [conda env:base] *",
   "language": "python",
   "name": "conda-base-py"
  },
  "language_info": {
   "codemirror_mode": {
    "name": "ipython",
    "version": 3
   },
   "file_extension": ".py",
   "mimetype": "text/x-python",
   "name": "python",
   "nbconvert_exporter": "python",
   "pygments_lexer": "ipython3",
   "version": "3.12.7"
  }
 },
 "nbformat": 4,
 "nbformat_minor": 5
}
